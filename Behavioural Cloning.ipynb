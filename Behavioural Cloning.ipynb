{
 "cells": [
  {
   "cell_type": "code",
   "execution_count": 1,
   "metadata": {},
   "outputs": [
    {
     "name": "stderr",
     "output_type": "stream",
     "text": [
      "Using TensorFlow backend.\n"
     ]
    }
   ],
   "source": [
    "import os\n",
    "import ntpath\n",
    "import numpy as np\n",
    "import matplotlib.pyplot as plt\n",
    "import keras\n",
    "import cv2\n",
    "import pandas as pd\n",
    "import random\n",
    "from sklearn.utils import shuffle\n",
    "from keras.models import Sequential\n",
    "from keras.optimizers import Adam\n",
    "from keras.layers import Conv2D, MaxPooling2D, Dropout, Flatten, Dense"
   ]
  },
  {
   "cell_type": "code",
   "execution_count": 7,
   "metadata": {},
   "outputs": [
    {
     "data": {
      "text/html": [
       "<div>\n",
       "<style scoped>\n",
       "    .dataframe tbody tr th:only-of-type {\n",
       "        vertical-align: middle;\n",
       "    }\n",
       "\n",
       "    .dataframe tbody tr th {\n",
       "        vertical-align: top;\n",
       "    }\n",
       "\n",
       "    .dataframe thead th {\n",
       "        text-align: right;\n",
       "    }\n",
       "</style>\n",
       "<table border=\"1\" class=\"dataframe\">\n",
       "  <thead>\n",
       "    <tr style=\"text-align: right;\">\n",
       "      <th></th>\n",
       "      <th>center</th>\n",
       "      <th>left</th>\n",
       "      <th>right</th>\n",
       "      <th>steering</th>\n",
       "      <th>throttle</th>\n",
       "      <th>reverse</th>\n",
       "      <th>speed</th>\n",
       "    </tr>\n",
       "  </thead>\n",
       "  <tbody>\n",
       "    <tr>\n",
       "      <th>0</th>\n",
       "      <td>C:\\Users\\Vedansh\\Desktop\\SDC\\Data\\IMG\\center_2019_07_24_13_27_37_710.jpg</td>\n",
       "      <td>C:\\Users\\Vedansh\\Desktop\\SDC\\Data\\IMG\\left_2019_07_24_13_27_37_710.jpg</td>\n",
       "      <td>C:\\Users\\Vedansh\\Desktop\\SDC\\Data\\IMG\\right_2019_07_24_13_27_37_710.jpg</td>\n",
       "      <td>0.0</td>\n",
       "      <td>0.0</td>\n",
       "      <td>0.0</td>\n",
       "      <td>0.000079</td>\n",
       "    </tr>\n",
       "    <tr>\n",
       "      <th>1</th>\n",
       "      <td>C:\\Users\\Vedansh\\Desktop\\SDC\\Data\\IMG\\center_2019_07_24_13_27_37_815.jpg</td>\n",
       "      <td>C:\\Users\\Vedansh\\Desktop\\SDC\\Data\\IMG\\left_2019_07_24_13_27_37_815.jpg</td>\n",
       "      <td>C:\\Users\\Vedansh\\Desktop\\SDC\\Data\\IMG\\right_2019_07_24_13_27_37_815.jpg</td>\n",
       "      <td>0.0</td>\n",
       "      <td>0.0</td>\n",
       "      <td>0.0</td>\n",
       "      <td>0.000078</td>\n",
       "    </tr>\n",
       "    <tr>\n",
       "      <th>2</th>\n",
       "      <td>C:\\Users\\Vedansh\\Desktop\\SDC\\Data\\IMG\\center_2019_07_24_13_27_37_914.jpg</td>\n",
       "      <td>C:\\Users\\Vedansh\\Desktop\\SDC\\Data\\IMG\\left_2019_07_24_13_27_37_914.jpg</td>\n",
       "      <td>C:\\Users\\Vedansh\\Desktop\\SDC\\Data\\IMG\\right_2019_07_24_13_27_37_914.jpg</td>\n",
       "      <td>0.0</td>\n",
       "      <td>0.0</td>\n",
       "      <td>0.0</td>\n",
       "      <td>0.000080</td>\n",
       "    </tr>\n",
       "    <tr>\n",
       "      <th>3</th>\n",
       "      <td>C:\\Users\\Vedansh\\Desktop\\SDC\\Data\\IMG\\center_2019_07_24_13_27_38_015.jpg</td>\n",
       "      <td>C:\\Users\\Vedansh\\Desktop\\SDC\\Data\\IMG\\left_2019_07_24_13_27_38_015.jpg</td>\n",
       "      <td>C:\\Users\\Vedansh\\Desktop\\SDC\\Data\\IMG\\right_2019_07_24_13_27_38_015.jpg</td>\n",
       "      <td>0.0</td>\n",
       "      <td>0.0</td>\n",
       "      <td>0.0</td>\n",
       "      <td>0.000078</td>\n",
       "    </tr>\n",
       "    <tr>\n",
       "      <th>4</th>\n",
       "      <td>C:\\Users\\Vedansh\\Desktop\\SDC\\Data\\IMG\\center_2019_07_24_13_27_38_118.jpg</td>\n",
       "      <td>C:\\Users\\Vedansh\\Desktop\\SDC\\Data\\IMG\\left_2019_07_24_13_27_38_118.jpg</td>\n",
       "      <td>C:\\Users\\Vedansh\\Desktop\\SDC\\Data\\IMG\\right_2019_07_24_13_27_38_118.jpg</td>\n",
       "      <td>0.0</td>\n",
       "      <td>0.0</td>\n",
       "      <td>0.0</td>\n",
       "      <td>0.000078</td>\n",
       "    </tr>\n",
       "  </tbody>\n",
       "</table>\n",
       "</div>"
      ],
      "text/plain": [
       "                                                                     center  \\\n",
       "0  C:\\Users\\Vedansh\\Desktop\\SDC\\Data\\IMG\\center_2019_07_24_13_27_37_710.jpg   \n",
       "1  C:\\Users\\Vedansh\\Desktop\\SDC\\Data\\IMG\\center_2019_07_24_13_27_37_815.jpg   \n",
       "2  C:\\Users\\Vedansh\\Desktop\\SDC\\Data\\IMG\\center_2019_07_24_13_27_37_914.jpg   \n",
       "3  C:\\Users\\Vedansh\\Desktop\\SDC\\Data\\IMG\\center_2019_07_24_13_27_38_015.jpg   \n",
       "4  C:\\Users\\Vedansh\\Desktop\\SDC\\Data\\IMG\\center_2019_07_24_13_27_38_118.jpg   \n",
       "\n",
       "                                                                      left  \\\n",
       "0   C:\\Users\\Vedansh\\Desktop\\SDC\\Data\\IMG\\left_2019_07_24_13_27_37_710.jpg   \n",
       "1   C:\\Users\\Vedansh\\Desktop\\SDC\\Data\\IMG\\left_2019_07_24_13_27_37_815.jpg   \n",
       "2   C:\\Users\\Vedansh\\Desktop\\SDC\\Data\\IMG\\left_2019_07_24_13_27_37_914.jpg   \n",
       "3   C:\\Users\\Vedansh\\Desktop\\SDC\\Data\\IMG\\left_2019_07_24_13_27_38_015.jpg   \n",
       "4   C:\\Users\\Vedansh\\Desktop\\SDC\\Data\\IMG\\left_2019_07_24_13_27_38_118.jpg   \n",
       "\n",
       "                                                                      right  \\\n",
       "0   C:\\Users\\Vedansh\\Desktop\\SDC\\Data\\IMG\\right_2019_07_24_13_27_37_710.jpg   \n",
       "1   C:\\Users\\Vedansh\\Desktop\\SDC\\Data\\IMG\\right_2019_07_24_13_27_37_815.jpg   \n",
       "2   C:\\Users\\Vedansh\\Desktop\\SDC\\Data\\IMG\\right_2019_07_24_13_27_37_914.jpg   \n",
       "3   C:\\Users\\Vedansh\\Desktop\\SDC\\Data\\IMG\\right_2019_07_24_13_27_38_015.jpg   \n",
       "4   C:\\Users\\Vedansh\\Desktop\\SDC\\Data\\IMG\\right_2019_07_24_13_27_38_118.jpg   \n",
       "\n",
       "   steering  throttle  reverse     speed  \n",
       "0  0.0       0.0       0.0      0.000079  \n",
       "1  0.0       0.0       0.0      0.000078  \n",
       "2  0.0       0.0       0.0      0.000080  \n",
       "3  0.0       0.0       0.0      0.000078  \n",
       "4  0.0       0.0       0.0      0.000078  "
      ]
     },
     "execution_count": 7,
     "metadata": {},
     "output_type": "execute_result"
    }
   ],
   "source": [
    "datadir = 'data'\n",
    "columns = ['center', 'left', 'right', 'steering', 'throttle', 'reverse', 'speed']\n",
    "data = pd.read_csv(os.path.join(datadir,'driving_log.csv'), names= columns)\n",
    "pd.set_option('display.max_colwidth', -1)\n",
    "data.head(5)"
   ]
  },
  {
   "cell_type": "code",
   "execution_count": 8,
   "metadata": {},
   "outputs": [
    {
     "data": {
      "text/html": [
       "<div>\n",
       "<style scoped>\n",
       "    .dataframe tbody tr th:only-of-type {\n",
       "        vertical-align: middle;\n",
       "    }\n",
       "\n",
       "    .dataframe tbody tr th {\n",
       "        vertical-align: top;\n",
       "    }\n",
       "\n",
       "    .dataframe thead th {\n",
       "        text-align: right;\n",
       "    }\n",
       "</style>\n",
       "<table border=\"1\" class=\"dataframe\">\n",
       "  <thead>\n",
       "    <tr style=\"text-align: right;\">\n",
       "      <th></th>\n",
       "      <th>center</th>\n",
       "      <th>left</th>\n",
       "      <th>right</th>\n",
       "      <th>steering</th>\n",
       "      <th>throttle</th>\n",
       "      <th>reverse</th>\n",
       "      <th>speed</th>\n",
       "    </tr>\n",
       "  </thead>\n",
       "  <tbody>\n",
       "    <tr>\n",
       "      <th>0</th>\n",
       "      <td>center_2019_07_24_13_27_37_710.jpg</td>\n",
       "      <td>left_2019_07_24_13_27_37_710.jpg</td>\n",
       "      <td>right_2019_07_24_13_27_37_710.jpg</td>\n",
       "      <td>0.0</td>\n",
       "      <td>0.0</td>\n",
       "      <td>0.0</td>\n",
       "      <td>0.000079</td>\n",
       "    </tr>\n",
       "    <tr>\n",
       "      <th>1</th>\n",
       "      <td>center_2019_07_24_13_27_37_815.jpg</td>\n",
       "      <td>left_2019_07_24_13_27_37_815.jpg</td>\n",
       "      <td>right_2019_07_24_13_27_37_815.jpg</td>\n",
       "      <td>0.0</td>\n",
       "      <td>0.0</td>\n",
       "      <td>0.0</td>\n",
       "      <td>0.000078</td>\n",
       "    </tr>\n",
       "    <tr>\n",
       "      <th>2</th>\n",
       "      <td>center_2019_07_24_13_27_37_914.jpg</td>\n",
       "      <td>left_2019_07_24_13_27_37_914.jpg</td>\n",
       "      <td>right_2019_07_24_13_27_37_914.jpg</td>\n",
       "      <td>0.0</td>\n",
       "      <td>0.0</td>\n",
       "      <td>0.0</td>\n",
       "      <td>0.000080</td>\n",
       "    </tr>\n",
       "    <tr>\n",
       "      <th>3</th>\n",
       "      <td>center_2019_07_24_13_27_38_015.jpg</td>\n",
       "      <td>left_2019_07_24_13_27_38_015.jpg</td>\n",
       "      <td>right_2019_07_24_13_27_38_015.jpg</td>\n",
       "      <td>0.0</td>\n",
       "      <td>0.0</td>\n",
       "      <td>0.0</td>\n",
       "      <td>0.000078</td>\n",
       "    </tr>\n",
       "    <tr>\n",
       "      <th>4</th>\n",
       "      <td>center_2019_07_24_13_27_38_118.jpg</td>\n",
       "      <td>left_2019_07_24_13_27_38_118.jpg</td>\n",
       "      <td>right_2019_07_24_13_27_38_118.jpg</td>\n",
       "      <td>0.0</td>\n",
       "      <td>0.0</td>\n",
       "      <td>0.0</td>\n",
       "      <td>0.000078</td>\n",
       "    </tr>\n",
       "  </tbody>\n",
       "</table>\n",
       "</div>"
      ],
      "text/plain": [
       "                               center                              left  \\\n",
       "0  center_2019_07_24_13_27_37_710.jpg  left_2019_07_24_13_27_37_710.jpg   \n",
       "1  center_2019_07_24_13_27_37_815.jpg  left_2019_07_24_13_27_37_815.jpg   \n",
       "2  center_2019_07_24_13_27_37_914.jpg  left_2019_07_24_13_27_37_914.jpg   \n",
       "3  center_2019_07_24_13_27_38_015.jpg  left_2019_07_24_13_27_38_015.jpg   \n",
       "4  center_2019_07_24_13_27_38_118.jpg  left_2019_07_24_13_27_38_118.jpg   \n",
       "\n",
       "                               right  steering  throttle  reverse     speed  \n",
       "0  right_2019_07_24_13_27_37_710.jpg  0.0       0.0       0.0      0.000079  \n",
       "1  right_2019_07_24_13_27_37_815.jpg  0.0       0.0       0.0      0.000078  \n",
       "2  right_2019_07_24_13_27_37_914.jpg  0.0       0.0       0.0      0.000080  \n",
       "3  right_2019_07_24_13_27_38_015.jpg  0.0       0.0       0.0      0.000078  \n",
       "4  right_2019_07_24_13_27_38_118.jpg  0.0       0.0       0.0      0.000078  "
      ]
     },
     "execution_count": 8,
     "metadata": {},
     "output_type": "execute_result"
    }
   ],
   "source": [
    "def path_leaf(path):\n",
    "    head, tail = ntpath.split(path)\n",
    "    return tail\n",
    "\n",
    "data['center'] = data['center'].apply(path_leaf)\n",
    "data['left'] = data['left'].apply(path_leaf)\n",
    "data['right'] = data['right'].apply(path_leaf)\n",
    "data.head(5)"
   ]
  },
  {
   "cell_type": "code",
   "execution_count": 9,
   "metadata": {},
   "outputs": [
    {
     "data": {
      "text/plain": [
       "[<matplotlib.lines.Line2D at 0x2650f3a62b0>]"
      ]
     },
     "execution_count": 9,
     "metadata": {},
     "output_type": "execute_result"
    },
    {
     "data": {
      "image/png": "[encoded data removed]",
      "text/plain": [
       "<Figure size 432x288 with 1 Axes>"
      ]
     },
     "metadata": {
      "needs_background": "light"
     },
     "output_type": "display_data"
    }
   ],
   "source": [
    "num_bins = 25\n",
    "samples_per_bin = 250\n",
    "hist, bins = np.histogram(data['steering'], num_bins)\n",
    "center = (bins[:-1] + bins[1:]) * 0.5\n",
    "plt.bar(center, hist, width=0.05)\n",
    "plt.plot((np.min(data['steering']), np.max(data['steering'])), (samples_per_bin, samples_per_bin))"
   ]
  },
  {
   "cell_type": "code",
   "execution_count": 10,
   "metadata": {},
   "outputs": [
    {
     "name": "stdout",
     "output_type": "stream",
     "text": [
      "removed : 3119\n",
      "total : 4676\n",
      "remaining : 1557\n"
     ]
    },
    {
     "data": {
      "text/plain": [
       "[<matplotlib.lines.Line2D at 0x2650f49d9e8>]"
      ]
     },
     "execution_count": 10,
     "metadata": {},
     "output_type": "execute_result"
    },
    {
     "data": {
      "image/png": "[encoded data removed]",
      "text/plain": [
       "<Figure size 432x288 with 1 Axes>"
      ]
     },
     "metadata": {
      "needs_background": "light"
     },
     "output_type": "display_data"
    }
   ],
   "source": [
    "remove_list = []\n",
    "for j in range(num_bins):\n",
    "    list_a = []\n",
    "    for i in range(len(data['steering'])):\n",
    "        if data['steering'][i] >= bins[j] and data['steering'][i] <= bins[j+1]:\n",
    "           list_a.append(i)  \n",
    "    list_a = shuffle(list_a)\n",
    "    list_a = list_a[samples_per_bin:]\n",
    "    remove_list.extend(list_a)\n",
    "    \n",
    "    \n",
    "print('removed : ' + str(len(remove_list)))\n",
    "print('total : ' + str(len(data)))\n",
    "data.drop(data.index[remove_list], inplace=True)\n",
    "print('remaining : ' + str(len(data)))\n",
    "\n",
    "hist, _ = np.histogram(data['steering'], (num_bins))\n",
    "plt.bar(center, hist, width=0.05)\n",
    "plt.plot((np.min(data['steering']), np.max(data['steering'])), (samples_per_bin, samples_per_bin))"
   ]
  },
  {
   "cell_type": "code",
   "execution_count": null,
   "metadata": {},
   "outputs": [],
   "source": []
  }
 ],
 "metadata": {
  "kernelspec": {
   "display_name": "Python 3",
   "language": "python",
   "name": "python3"
  },
  "language_info": {
   "codemirror_mode": {
    "name": "ipython",
    "version": 3
   },
   "file_extension": ".py",
   "mimetype": "text/x-python",
   "name": "python",
   "nbconvert_exporter": "python",
   "pygments_lexer": "ipython3",
   "version": "3.7.1"
  }
 },
 "nbformat": 4,
 "nbformat_minor": 2
}
