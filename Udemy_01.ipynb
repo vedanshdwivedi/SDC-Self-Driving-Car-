{
  "nbformat": 4,
  "nbformat_minor": 0,
  "metadata": {
    "colab": {
      "name": "Udemy 01",
      "provenance": [],
      "collapsed_sections": [],
      "authorship_tag": "ABX9TyMiPUYeDeQfvJJdTA3kkSLr",
      "include_colab_link": true
    },
    "kernelspec": {
      "name": "python3",
      "display_name": "Python 3"
    }
  },
  "cells": [
    {
      "cell_type": "markdown",
      "metadata": {
        "id": "view-in-github",
        "colab_type": "text"
      },
      "source": [
        "<a href=\"https://colab.research.google.com/github/vedanshdwivedi/SDC-Self-Driving-Car-/blob/master/Udemy_01.ipynb\" target=\"_parent\"><img src=\"https://colab.research.google.com/assets/colab-badge.svg\" alt=\"Open In Colab\"/></a>"
      ]
    },
    {
      "cell_type": "code",
      "metadata": {
        "id": "2pTK1FEpwmSN",
        "colab_type": "code",
        "colab": {}
      },
      "source": [
        "import cv2\n",
        "import matplotlib.image as mpimg\n",
        "import matplotlib.pyplot as plt\n",
        "import numpy as np"
      ],
      "execution_count": 0,
      "outputs": []
    },
    {
      "cell_type": "code",
      "metadata": {
        "id": "tFPPNg6Fydr4",
        "colab_type": "code",
        "colab": {}
      },
      "source": [
        "def LiveCamEdgeDetection_canny(img_col):\n",
        "  threshold_1 = 30\n",
        "  threshold_2 = 80\n",
        "  gray = cv2.cvtColor(img_col, cv2.COLOR_BGR2GRAY)\n",
        "  canny = cv2.Canny(gray, threshold_1, threshold_2)\n",
        "  return canny"
      ],
      "execution_count": 0,
      "outputs": []
    },
    {
      "cell_type": "code",
      "metadata": {
        "id": "Ur5NR2Qo0Jd2",
        "colab_type": "code",
        "colab": {}
      },
      "source": [
        "def LiveCamEdgeDetection_laplace(img_col):\n",
        "  gray = cv2.cvtColor(img_col, cv2.COLOR_BGR2GRAY)\n",
        "  laplace = cv2.Laplacian(gray, cv2.CV_64F)\n",
        "  return laplace"
      ],
      "execution_count": 0,
      "outputs": []
    },
    {
      "cell_type": "code",
      "metadata": {
        "id": "4_DAZpckGj7k",
        "colab_type": "code",
        "colab": {}
      },
      "source": [
        "def LiveCamEdgeDetection_sobely(img_col):\n",
        "  gray = cv2.cvtColor(img_col, cv2.COLOR_BGR2GRAY)\n",
        "  y_sobel = cv2.Sobel(gray, cv2.CV_64F, 1,0, ksize=7)\n",
        "  return y_sobel"
      ],
      "execution_count": 0,
      "outputs": []
    },
    {
      "cell_type": "code",
      "metadata": {
        "id": "Y6Ax-COxG8nl",
        "colab_type": "code",
        "colab": {}
      },
      "source": [
        "def LiveCamEdgeDetection_sobelx(img_col):\n",
        "  gray = cv2.cvtColor(img_col, cv2.COLOR_BRG2GRAY)\n",
        "  x_sobel = cv2.Sobel(gray, cv2.CV_64F,0, 1, ksize=7)\n",
        "  return x_sobel"
      ],
      "execution_count": 0,
      "outputs": []
    },
    {
      "cell_type": "code",
      "metadata": {
        "id": "nRiel6azKBF7",
        "colab_type": "code",
        "colab": {}
      },
      "source": [
        "cap = cv2.VideoCapture(0)\n",
        "chk=0\n",
        "\n",
        "while True:\n",
        "  ret, frame = cap.read()\n",
        "  if ret == False:\n",
        "    chk=1\n",
        "    break\n",
        "  while ret:\n",
        "    cv2.imshow('Live Edge Detection', LiveCamEdgeDetection_canny(frame))\n",
        "    cv2.imshow('Webcam Video', frame)\n",
        "    if cv2.waitKey(1) == 13:\n",
        "      break\n",
        "\n",
        "if chk==0:\n",
        "  cap.release()\n",
        "  cap.destroyAllWindows()"
      ],
      "execution_count": 0,
      "outputs": []
    },
    {
      "cell_type": "code",
      "metadata": {
        "id": "PQX4cWN5KdXS",
        "colab_type": "code",
        "colab": {}
      },
      "source": [
        ""
      ],
      "execution_count": 0,
      "outputs": []
    }
  ]
}