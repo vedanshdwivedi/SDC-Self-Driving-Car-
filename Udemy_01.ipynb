{
  "nbformat": 4,
  "nbformat_minor": 0,
  "metadata": {
    "colab": {
      "name": "Udemy 01",
      "provenance": [],
      "authorship_tag": "ABX9TyP0YtdZ23Svu3YB0Lxyzinw",
      "include_colab_link": true
    },
    "kernelspec": {
      "name": "python3",
      "display_name": "Python 3"
    }
  },
  "cells": [
    {
      "cell_type": "markdown",
      "metadata": {
        "id": "view-in-github",
        "colab_type": "text"
      },
      "source": [
        "<a href=\"https://colab.research.google.com/github/vedanshdwivedi/SDC-Self-Driving-Car-/blob/master/Udemy_01.ipynb\" target=\"_parent\"><img src=\"https://colab.research.google.com/assets/colab-badge.svg\" alt=\"Open In Colab\"/></a>"
      ]
    },
    {
      "cell_type": "code",
      "metadata": {
        "id": "2pTK1FEpwmSN",
        "colab_type": "code",
        "colab": {}
      },
      "source": [
        "import cv2\n",
        "import matplotlib.image as mpimg\n",
        "import matplotlib.pyplot as plt\n",
        "import numpy as np"
      ],
      "execution_count": 0,
      "outputs": []
    },
    {
      "cell_type": "code",
      "metadata": {
        "id": "tFPPNg6Fydr4",
        "colab_type": "code",
        "colab": {}
      },
      "source": [
        "def LiveCamEdgeDetection_canny(img_col):\n",
        "  threshold_1 = 30\n",
        "  threshold_2 = 80\n",
        "  gray = cv2.cvtColor(img_col, cv2.COLOR_BGR2GRAY)\n",
        "  canny = cv2.Canny(gray, threshold_1, threshold_2)\n",
        "  return canny"
      ],
      "execution_count": 0,
      "outputs": []
    },
    {
      "cell_type": "code",
      "metadata": {
        "id": "Ur5NR2Qo0Jd2",
        "colab_type": "code",
        "colab": {}
      },
      "source": [
        ""
      ],
      "execution_count": 0,
      "outputs": []
    }
  ]
}